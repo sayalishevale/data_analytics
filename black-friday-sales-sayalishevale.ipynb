{
 "cells": [
  {
   "cell_type": "code",
   "execution_count": 1,
   "id": "204fdf8f",
   "metadata": {
    "_cell_guid": "b1076dfc-b9ad-4769-8c92-a6c4dae69d19",
    "_uuid": "8f2839f25d086af736a60e9eeb907d3b93b6e0e5",
    "execution": {
     "iopub.execute_input": "2024-02-06T17:17:00.179788Z",
     "iopub.status.busy": "2024-02-06T17:17:00.178889Z",
     "iopub.status.idle": "2024-02-06T17:17:01.218960Z",
     "shell.execute_reply": "2024-02-06T17:17:01.217425Z"
    },
    "papermill": {
     "duration": 1.061188,
     "end_time": "2024-02-06T17:17:01.222093",
     "exception": false,
     "start_time": "2024-02-06T17:17:00.160905",
     "status": "completed"
    },
    "tags": []
   },
   "outputs": [
    {
     "name": "stdout",
     "output_type": "stream",
     "text": [
      "/kaggle/input/black-friday-sales-eda/train.csv\n"
     ]
    }
   ],
   "source": [
    "# This Python 3 environment comes with many helpful analytics libraries installed\n",
    "# It is defined by the kaggle/python Docker image: https://github.com/kaggle/docker-python\n",
    "# For example, here's several helpful packages to load\n",
    "\n",
    "import numpy as np # linear algebra\n",
    "import pandas as pd # data processing, CSV file I/O (e.g. pd.read_csv)\n",
    "\n",
    "# Input data files are available in the read-only \"../input/\" directory\n",
    "# For example, running this (by clicking run or pressing Shift+Enter) will list all files under the input directory\n",
    "\n",
    "import os\n",
    "for dirname, _, filenames in os.walk('/kaggle/input'):\n",
    "    for filename in filenames:\n",
    "        print(os.path.join(dirname, filename))\n",
    "\n",
    "# You can write up to 20GB to the current directory (/kaggle/working/) that gets preserved as output when you create a version using \"Save & Run All\" \n",
    "# You can also write temporary files to /kaggle/temp/, but they won't be saved outside of the current session"
   ]
  },
  {
   "cell_type": "code",
   "execution_count": 2,
   "id": "206fdf40",
   "metadata": {
    "execution": {
     "iopub.execute_input": "2024-02-06T17:17:01.257258Z",
     "iopub.status.busy": "2024-02-06T17:17:01.256752Z",
     "iopub.status.idle": "2024-02-06T17:17:02.583682Z",
     "shell.execute_reply": "2024-02-06T17:17:02.582608Z"
    },
    "papermill": {
     "duration": 1.346948,
     "end_time": "2024-02-06T17:17:02.586547",
     "exception": false,
     "start_time": "2024-02-06T17:17:01.239599",
     "status": "completed"
    },
    "tags": []
   },
   "outputs": [
    {
     "data": {
      "text/html": [
       "<div>\n",
       "<style scoped>\n",
       "    .dataframe tbody tr th:only-of-type {\n",
       "        vertical-align: middle;\n",
       "    }\n",
       "\n",
       "    .dataframe tbody tr th {\n",
       "        vertical-align: top;\n",
       "    }\n",
       "\n",
       "    .dataframe thead th {\n",
       "        text-align: right;\n",
       "    }\n",
       "</style>\n",
       "<table border=\"1\" class=\"dataframe\">\n",
       "  <thead>\n",
       "    <tr style=\"text-align: right;\">\n",
       "      <th></th>\n",
       "      <th>User_ID</th>\n",
       "      <th>Product_ID</th>\n",
       "      <th>Gender</th>\n",
       "      <th>Age</th>\n",
       "      <th>Occupation</th>\n",
       "      <th>City_Category</th>\n",
       "      <th>Stay_In_Current_City_Years</th>\n",
       "      <th>Marital_Status</th>\n",
       "      <th>Product_Category_1</th>\n",
       "      <th>Product_Category_2</th>\n",
       "      <th>Product_Category_3</th>\n",
       "      <th>Purchase</th>\n",
       "    </tr>\n",
       "  </thead>\n",
       "  <tbody>\n",
       "    <tr>\n",
       "      <th>0</th>\n",
       "      <td>1000001</td>\n",
       "      <td>P00069042</td>\n",
       "      <td>F</td>\n",
       "      <td>0-17</td>\n",
       "      <td>10</td>\n",
       "      <td>A</td>\n",
       "      <td>2</td>\n",
       "      <td>0</td>\n",
       "      <td>3</td>\n",
       "      <td>NaN</td>\n",
       "      <td>NaN</td>\n",
       "      <td>8370</td>\n",
       "    </tr>\n",
       "    <tr>\n",
       "      <th>1</th>\n",
       "      <td>1000001</td>\n",
       "      <td>P00248942</td>\n",
       "      <td>F</td>\n",
       "      <td>0-17</td>\n",
       "      <td>10</td>\n",
       "      <td>A</td>\n",
       "      <td>2</td>\n",
       "      <td>0</td>\n",
       "      <td>1</td>\n",
       "      <td>6.0</td>\n",
       "      <td>14.0</td>\n",
       "      <td>15200</td>\n",
       "    </tr>\n",
       "    <tr>\n",
       "      <th>2</th>\n",
       "      <td>1000001</td>\n",
       "      <td>P00087842</td>\n",
       "      <td>F</td>\n",
       "      <td>0-17</td>\n",
       "      <td>10</td>\n",
       "      <td>A</td>\n",
       "      <td>2</td>\n",
       "      <td>0</td>\n",
       "      <td>12</td>\n",
       "      <td>NaN</td>\n",
       "      <td>NaN</td>\n",
       "      <td>1422</td>\n",
       "    </tr>\n",
       "    <tr>\n",
       "      <th>3</th>\n",
       "      <td>1000001</td>\n",
       "      <td>P00085442</td>\n",
       "      <td>F</td>\n",
       "      <td>0-17</td>\n",
       "      <td>10</td>\n",
       "      <td>A</td>\n",
       "      <td>2</td>\n",
       "      <td>0</td>\n",
       "      <td>12</td>\n",
       "      <td>14.0</td>\n",
       "      <td>NaN</td>\n",
       "      <td>1057</td>\n",
       "    </tr>\n",
       "    <tr>\n",
       "      <th>4</th>\n",
       "      <td>1000002</td>\n",
       "      <td>P00285442</td>\n",
       "      <td>M</td>\n",
       "      <td>55+</td>\n",
       "      <td>16</td>\n",
       "      <td>C</td>\n",
       "      <td>4+</td>\n",
       "      <td>0</td>\n",
       "      <td>8</td>\n",
       "      <td>NaN</td>\n",
       "      <td>NaN</td>\n",
       "      <td>7969</td>\n",
       "    </tr>\n",
       "    <tr>\n",
       "      <th>5</th>\n",
       "      <td>1000003</td>\n",
       "      <td>P00193542</td>\n",
       "      <td>M</td>\n",
       "      <td>26-35</td>\n",
       "      <td>15</td>\n",
       "      <td>A</td>\n",
       "      <td>3</td>\n",
       "      <td>0</td>\n",
       "      <td>1</td>\n",
       "      <td>2.0</td>\n",
       "      <td>NaN</td>\n",
       "      <td>15227</td>\n",
       "    </tr>\n",
       "    <tr>\n",
       "      <th>6</th>\n",
       "      <td>1000004</td>\n",
       "      <td>P00184942</td>\n",
       "      <td>M</td>\n",
       "      <td>46-50</td>\n",
       "      <td>7</td>\n",
       "      <td>B</td>\n",
       "      <td>2</td>\n",
       "      <td>1</td>\n",
       "      <td>1</td>\n",
       "      <td>8.0</td>\n",
       "      <td>17.0</td>\n",
       "      <td>19215</td>\n",
       "    </tr>\n",
       "    <tr>\n",
       "      <th>7</th>\n",
       "      <td>1000004</td>\n",
       "      <td>P00346142</td>\n",
       "      <td>M</td>\n",
       "      <td>46-50</td>\n",
       "      <td>7</td>\n",
       "      <td>B</td>\n",
       "      <td>2</td>\n",
       "      <td>1</td>\n",
       "      <td>1</td>\n",
       "      <td>15.0</td>\n",
       "      <td>NaN</td>\n",
       "      <td>15854</td>\n",
       "    </tr>\n",
       "    <tr>\n",
       "      <th>8</th>\n",
       "      <td>1000004</td>\n",
       "      <td>P0097242</td>\n",
       "      <td>M</td>\n",
       "      <td>46-50</td>\n",
       "      <td>7</td>\n",
       "      <td>B</td>\n",
       "      <td>2</td>\n",
       "      <td>1</td>\n",
       "      <td>1</td>\n",
       "      <td>16.0</td>\n",
       "      <td>NaN</td>\n",
       "      <td>15686</td>\n",
       "    </tr>\n",
       "    <tr>\n",
       "      <th>9</th>\n",
       "      <td>1000005</td>\n",
       "      <td>P00274942</td>\n",
       "      <td>M</td>\n",
       "      <td>26-35</td>\n",
       "      <td>20</td>\n",
       "      <td>A</td>\n",
       "      <td>1</td>\n",
       "      <td>1</td>\n",
       "      <td>8</td>\n",
       "      <td>NaN</td>\n",
       "      <td>NaN</td>\n",
       "      <td>7871</td>\n",
       "    </tr>\n",
       "  </tbody>\n",
       "</table>\n",
       "</div>"
      ],
      "text/plain": [
       "   User_ID Product_ID Gender    Age  Occupation City_Category  \\\n",
       "0  1000001  P00069042      F   0-17          10             A   \n",
       "1  1000001  P00248942      F   0-17          10             A   \n",
       "2  1000001  P00087842      F   0-17          10             A   \n",
       "3  1000001  P00085442      F   0-17          10             A   \n",
       "4  1000002  P00285442      M    55+          16             C   \n",
       "5  1000003  P00193542      M  26-35          15             A   \n",
       "6  1000004  P00184942      M  46-50           7             B   \n",
       "7  1000004  P00346142      M  46-50           7             B   \n",
       "8  1000004   P0097242      M  46-50           7             B   \n",
       "9  1000005  P00274942      M  26-35          20             A   \n",
       "\n",
       "  Stay_In_Current_City_Years  Marital_Status  Product_Category_1  \\\n",
       "0                          2               0                   3   \n",
       "1                          2               0                   1   \n",
       "2                          2               0                  12   \n",
       "3                          2               0                  12   \n",
       "4                         4+               0                   8   \n",
       "5                          3               0                   1   \n",
       "6                          2               1                   1   \n",
       "7                          2               1                   1   \n",
       "8                          2               1                   1   \n",
       "9                          1               1                   8   \n",
       "\n",
       "   Product_Category_2  Product_Category_3  Purchase  \n",
       "0                 NaN                 NaN      8370  \n",
       "1                 6.0                14.0     15200  \n",
       "2                 NaN                 NaN      1422  \n",
       "3                14.0                 NaN      1057  \n",
       "4                 NaN                 NaN      7969  \n",
       "5                 2.0                 NaN     15227  \n",
       "6                 8.0                17.0     19215  \n",
       "7                15.0                 NaN     15854  \n",
       "8                16.0                 NaN     15686  \n",
       "9                 NaN                 NaN      7871  "
      ]
     },
     "execution_count": 2,
     "metadata": {},
     "output_type": "execute_result"
    }
   ],
   "source": [
    "df=pd.read_csv('/kaggle/input/black-friday-sales-eda/train.csv')\n",
    "df.head(10)"
   ]
  },
  {
   "cell_type": "code",
   "execution_count": 3,
   "id": "9441e0fe",
   "metadata": {
    "execution": {
     "iopub.execute_input": "2024-02-06T17:17:02.620147Z",
     "iopub.status.busy": "2024-02-06T17:17:02.619224Z",
     "iopub.status.idle": "2024-02-06T17:17:02.626839Z",
     "shell.execute_reply": "2024-02-06T17:17:02.625648Z"
    },
    "papermill": {
     "duration": 0.02723,
     "end_time": "2024-02-06T17:17:02.629167",
     "exception": false,
     "start_time": "2024-02-06T17:17:02.601937",
     "status": "completed"
    },
    "tags": []
   },
   "outputs": [
    {
     "data": {
      "text/plain": [
       "(550068, 12)"
      ]
     },
     "execution_count": 3,
     "metadata": {},
     "output_type": "execute_result"
    }
   ],
   "source": [
    "df.shape"
   ]
  },
  {
   "cell_type": "code",
   "execution_count": 4,
   "id": "0871072c",
   "metadata": {
    "execution": {
     "iopub.execute_input": "2024-02-06T17:17:02.662358Z",
     "iopub.status.busy": "2024-02-06T17:17:02.661971Z",
     "iopub.status.idle": "2024-02-06T17:17:02.670414Z",
     "shell.execute_reply": "2024-02-06T17:17:02.669031Z"
    },
    "papermill": {
     "duration": 0.027506,
     "end_time": "2024-02-06T17:17:02.672893",
     "exception": false,
     "start_time": "2024-02-06T17:17:02.645387",
     "status": "completed"
    },
    "tags": []
   },
   "outputs": [
    {
     "data": {
      "text/plain": [
       "Index(['User_ID', 'Product_ID', 'Gender', 'Age', 'Occupation', 'City_Category',\n",
       "       'Stay_In_Current_City_Years', 'Marital_Status', 'Product_Category_1',\n",
       "       'Product_Category_2', 'Product_Category_3', 'Purchase'],\n",
       "      dtype='object')"
      ]
     },
     "execution_count": 4,
     "metadata": {},
     "output_type": "execute_result"
    }
   ],
   "source": [
    "df.columns"
   ]
  },
  {
   "cell_type": "code",
   "execution_count": 5,
   "id": "25a93a3b",
   "metadata": {
    "execution": {
     "iopub.execute_input": "2024-02-06T17:17:02.706050Z",
     "iopub.status.busy": "2024-02-06T17:17:02.705654Z",
     "iopub.status.idle": "2024-02-06T17:17:02.892789Z",
     "shell.execute_reply": "2024-02-06T17:17:02.891741Z"
    },
    "papermill": {
     "duration": 0.20708,
     "end_time": "2024-02-06T17:17:02.895600",
     "exception": false,
     "start_time": "2024-02-06T17:17:02.688520",
     "status": "completed"
    },
    "tags": []
   },
   "outputs": [
    {
     "data": {
      "text/html": [
       "<div>\n",
       "<style scoped>\n",
       "    .dataframe tbody tr th:only-of-type {\n",
       "        vertical-align: middle;\n",
       "    }\n",
       "\n",
       "    .dataframe tbody tr th {\n",
       "        vertical-align: top;\n",
       "    }\n",
       "\n",
       "    .dataframe thead th {\n",
       "        text-align: right;\n",
       "    }\n",
       "</style>\n",
       "<table border=\"1\" class=\"dataframe\">\n",
       "  <thead>\n",
       "    <tr style=\"text-align: right;\">\n",
       "      <th></th>\n",
       "      <th>User_ID</th>\n",
       "      <th>Occupation</th>\n",
       "      <th>Marital_Status</th>\n",
       "      <th>Product_Category_1</th>\n",
       "      <th>Product_Category_2</th>\n",
       "      <th>Product_Category_3</th>\n",
       "      <th>Purchase</th>\n",
       "    </tr>\n",
       "  </thead>\n",
       "  <tbody>\n",
       "    <tr>\n",
       "      <th>count</th>\n",
       "      <td>5.500680e+05</td>\n",
       "      <td>550068.000000</td>\n",
       "      <td>550068.000000</td>\n",
       "      <td>550068.000000</td>\n",
       "      <td>376430.000000</td>\n",
       "      <td>166821.000000</td>\n",
       "      <td>550068.000000</td>\n",
       "    </tr>\n",
       "    <tr>\n",
       "      <th>mean</th>\n",
       "      <td>1.003029e+06</td>\n",
       "      <td>8.076707</td>\n",
       "      <td>0.409653</td>\n",
       "      <td>5.404270</td>\n",
       "      <td>9.842329</td>\n",
       "      <td>12.668243</td>\n",
       "      <td>9263.968713</td>\n",
       "    </tr>\n",
       "    <tr>\n",
       "      <th>std</th>\n",
       "      <td>1.727592e+03</td>\n",
       "      <td>6.522660</td>\n",
       "      <td>0.491770</td>\n",
       "      <td>3.936211</td>\n",
       "      <td>5.086590</td>\n",
       "      <td>4.125338</td>\n",
       "      <td>5023.065394</td>\n",
       "    </tr>\n",
       "    <tr>\n",
       "      <th>min</th>\n",
       "      <td>1.000001e+06</td>\n",
       "      <td>0.000000</td>\n",
       "      <td>0.000000</td>\n",
       "      <td>1.000000</td>\n",
       "      <td>2.000000</td>\n",
       "      <td>3.000000</td>\n",
       "      <td>12.000000</td>\n",
       "    </tr>\n",
       "    <tr>\n",
       "      <th>25%</th>\n",
       "      <td>1.001516e+06</td>\n",
       "      <td>2.000000</td>\n",
       "      <td>0.000000</td>\n",
       "      <td>1.000000</td>\n",
       "      <td>5.000000</td>\n",
       "      <td>9.000000</td>\n",
       "      <td>5823.000000</td>\n",
       "    </tr>\n",
       "    <tr>\n",
       "      <th>50%</th>\n",
       "      <td>1.003077e+06</td>\n",
       "      <td>7.000000</td>\n",
       "      <td>0.000000</td>\n",
       "      <td>5.000000</td>\n",
       "      <td>9.000000</td>\n",
       "      <td>14.000000</td>\n",
       "      <td>8047.000000</td>\n",
       "    </tr>\n",
       "    <tr>\n",
       "      <th>75%</th>\n",
       "      <td>1.004478e+06</td>\n",
       "      <td>14.000000</td>\n",
       "      <td>1.000000</td>\n",
       "      <td>8.000000</td>\n",
       "      <td>15.000000</td>\n",
       "      <td>16.000000</td>\n",
       "      <td>12054.000000</td>\n",
       "    </tr>\n",
       "    <tr>\n",
       "      <th>max</th>\n",
       "      <td>1.006040e+06</td>\n",
       "      <td>20.000000</td>\n",
       "      <td>1.000000</td>\n",
       "      <td>20.000000</td>\n",
       "      <td>18.000000</td>\n",
       "      <td>18.000000</td>\n",
       "      <td>23961.000000</td>\n",
       "    </tr>\n",
       "  </tbody>\n",
       "</table>\n",
       "</div>"
      ],
      "text/plain": [
       "            User_ID     Occupation  Marital_Status  Product_Category_1  \\\n",
       "count  5.500680e+05  550068.000000   550068.000000       550068.000000   \n",
       "mean   1.003029e+06       8.076707        0.409653            5.404270   \n",
       "std    1.727592e+03       6.522660        0.491770            3.936211   \n",
       "min    1.000001e+06       0.000000        0.000000            1.000000   \n",
       "25%    1.001516e+06       2.000000        0.000000            1.000000   \n",
       "50%    1.003077e+06       7.000000        0.000000            5.000000   \n",
       "75%    1.004478e+06      14.000000        1.000000            8.000000   \n",
       "max    1.006040e+06      20.000000        1.000000           20.000000   \n",
       "\n",
       "       Product_Category_2  Product_Category_3       Purchase  \n",
       "count       376430.000000       166821.000000  550068.000000  \n",
       "mean             9.842329           12.668243    9263.968713  \n",
       "std              5.086590            4.125338    5023.065394  \n",
       "min              2.000000            3.000000      12.000000  \n",
       "25%              5.000000            9.000000    5823.000000  \n",
       "50%              9.000000           14.000000    8047.000000  \n",
       "75%             15.000000           16.000000   12054.000000  \n",
       "max             18.000000           18.000000   23961.000000  "
      ]
     },
     "execution_count": 5,
     "metadata": {},
     "output_type": "execute_result"
    }
   ],
   "source": [
    "df.describe()"
   ]
  },
  {
   "cell_type": "code",
   "execution_count": 6,
   "id": "4110bffb",
   "metadata": {
    "execution": {
     "iopub.execute_input": "2024-02-06T17:17:02.932627Z",
     "iopub.status.busy": "2024-02-06T17:17:02.932247Z",
     "iopub.status.idle": "2024-02-06T17:17:03.243371Z",
     "shell.execute_reply": "2024-02-06T17:17:03.242130Z"
    },
    "papermill": {
     "duration": 0.333003,
     "end_time": "2024-02-06T17:17:03.246043",
     "exception": false,
     "start_time": "2024-02-06T17:17:02.913040",
     "status": "completed"
    },
    "tags": []
   },
   "outputs": [
    {
     "data": {
      "text/html": [
       "<div>\n",
       "<style scoped>\n",
       "    .dataframe tbody tr th:only-of-type {\n",
       "        vertical-align: middle;\n",
       "    }\n",
       "\n",
       "    .dataframe tbody tr th {\n",
       "        vertical-align: top;\n",
       "    }\n",
       "\n",
       "    .dataframe thead th {\n",
       "        text-align: right;\n",
       "    }\n",
       "</style>\n",
       "<table border=\"1\" class=\"dataframe\">\n",
       "  <thead>\n",
       "    <tr style=\"text-align: right;\">\n",
       "      <th></th>\n",
       "      <th>User_ID</th>\n",
       "      <th>Product_ID</th>\n",
       "      <th>Gender</th>\n",
       "      <th>Age</th>\n",
       "      <th>Occupation</th>\n",
       "      <th>City_Category</th>\n",
       "      <th>Stay_In_Current_City_Years</th>\n",
       "      <th>Marital_Status</th>\n",
       "      <th>Product_Category_1</th>\n",
       "      <th>Product_Category_2</th>\n",
       "      <th>Product_Category_3</th>\n",
       "      <th>Purchase</th>\n",
       "    </tr>\n",
       "  </thead>\n",
       "  <tbody>\n",
       "    <tr>\n",
       "      <th>0</th>\n",
       "      <td>False</td>\n",
       "      <td>False</td>\n",
       "      <td>False</td>\n",
       "      <td>False</td>\n",
       "      <td>False</td>\n",
       "      <td>False</td>\n",
       "      <td>False</td>\n",
       "      <td>False</td>\n",
       "      <td>False</td>\n",
       "      <td>True</td>\n",
       "      <td>True</td>\n",
       "      <td>False</td>\n",
       "    </tr>\n",
       "    <tr>\n",
       "      <th>1</th>\n",
       "      <td>False</td>\n",
       "      <td>False</td>\n",
       "      <td>False</td>\n",
       "      <td>False</td>\n",
       "      <td>False</td>\n",
       "      <td>False</td>\n",
       "      <td>False</td>\n",
       "      <td>False</td>\n",
       "      <td>False</td>\n",
       "      <td>False</td>\n",
       "      <td>False</td>\n",
       "      <td>False</td>\n",
       "    </tr>\n",
       "    <tr>\n",
       "      <th>2</th>\n",
       "      <td>False</td>\n",
       "      <td>False</td>\n",
       "      <td>False</td>\n",
       "      <td>False</td>\n",
       "      <td>False</td>\n",
       "      <td>False</td>\n",
       "      <td>False</td>\n",
       "      <td>False</td>\n",
       "      <td>False</td>\n",
       "      <td>True</td>\n",
       "      <td>True</td>\n",
       "      <td>False</td>\n",
       "    </tr>\n",
       "    <tr>\n",
       "      <th>3</th>\n",
       "      <td>False</td>\n",
       "      <td>False</td>\n",
       "      <td>False</td>\n",
       "      <td>False</td>\n",
       "      <td>False</td>\n",
       "      <td>False</td>\n",
       "      <td>False</td>\n",
       "      <td>False</td>\n",
       "      <td>False</td>\n",
       "      <td>False</td>\n",
       "      <td>True</td>\n",
       "      <td>False</td>\n",
       "    </tr>\n",
       "    <tr>\n",
       "      <th>4</th>\n",
       "      <td>False</td>\n",
       "      <td>False</td>\n",
       "      <td>False</td>\n",
       "      <td>False</td>\n",
       "      <td>False</td>\n",
       "      <td>False</td>\n",
       "      <td>False</td>\n",
       "      <td>False</td>\n",
       "      <td>False</td>\n",
       "      <td>True</td>\n",
       "      <td>True</td>\n",
       "      <td>False</td>\n",
       "    </tr>\n",
       "    <tr>\n",
       "      <th>...</th>\n",
       "      <td>...</td>\n",
       "      <td>...</td>\n",
       "      <td>...</td>\n",
       "      <td>...</td>\n",
       "      <td>...</td>\n",
       "      <td>...</td>\n",
       "      <td>...</td>\n",
       "      <td>...</td>\n",
       "      <td>...</td>\n",
       "      <td>...</td>\n",
       "      <td>...</td>\n",
       "      <td>...</td>\n",
       "    </tr>\n",
       "    <tr>\n",
       "      <th>550063</th>\n",
       "      <td>False</td>\n",
       "      <td>False</td>\n",
       "      <td>False</td>\n",
       "      <td>False</td>\n",
       "      <td>False</td>\n",
       "      <td>False</td>\n",
       "      <td>False</td>\n",
       "      <td>False</td>\n",
       "      <td>False</td>\n",
       "      <td>True</td>\n",
       "      <td>True</td>\n",
       "      <td>False</td>\n",
       "    </tr>\n",
       "    <tr>\n",
       "      <th>550064</th>\n",
       "      <td>False</td>\n",
       "      <td>False</td>\n",
       "      <td>False</td>\n",
       "      <td>False</td>\n",
       "      <td>False</td>\n",
       "      <td>False</td>\n",
       "      <td>False</td>\n",
       "      <td>False</td>\n",
       "      <td>False</td>\n",
       "      <td>True</td>\n",
       "      <td>True</td>\n",
       "      <td>False</td>\n",
       "    </tr>\n",
       "    <tr>\n",
       "      <th>550065</th>\n",
       "      <td>False</td>\n",
       "      <td>False</td>\n",
       "      <td>False</td>\n",
       "      <td>False</td>\n",
       "      <td>False</td>\n",
       "      <td>False</td>\n",
       "      <td>False</td>\n",
       "      <td>False</td>\n",
       "      <td>False</td>\n",
       "      <td>True</td>\n",
       "      <td>True</td>\n",
       "      <td>False</td>\n",
       "    </tr>\n",
       "    <tr>\n",
       "      <th>550066</th>\n",
       "      <td>False</td>\n",
       "      <td>False</td>\n",
       "      <td>False</td>\n",
       "      <td>False</td>\n",
       "      <td>False</td>\n",
       "      <td>False</td>\n",
       "      <td>False</td>\n",
       "      <td>False</td>\n",
       "      <td>False</td>\n",
       "      <td>True</td>\n",
       "      <td>True</td>\n",
       "      <td>False</td>\n",
       "    </tr>\n",
       "    <tr>\n",
       "      <th>550067</th>\n",
       "      <td>False</td>\n",
       "      <td>False</td>\n",
       "      <td>False</td>\n",
       "      <td>False</td>\n",
       "      <td>False</td>\n",
       "      <td>False</td>\n",
       "      <td>False</td>\n",
       "      <td>False</td>\n",
       "      <td>False</td>\n",
       "      <td>True</td>\n",
       "      <td>True</td>\n",
       "      <td>False</td>\n",
       "    </tr>\n",
       "  </tbody>\n",
       "</table>\n",
       "<p>550068 rows × 12 columns</p>\n",
       "</div>"
      ],
      "text/plain": [
       "        User_ID  Product_ID  Gender    Age  Occupation  City_Category  \\\n",
       "0         False       False   False  False       False          False   \n",
       "1         False       False   False  False       False          False   \n",
       "2         False       False   False  False       False          False   \n",
       "3         False       False   False  False       False          False   \n",
       "4         False       False   False  False       False          False   \n",
       "...         ...         ...     ...    ...         ...            ...   \n",
       "550063    False       False   False  False       False          False   \n",
       "550064    False       False   False  False       False          False   \n",
       "550065    False       False   False  False       False          False   \n",
       "550066    False       False   False  False       False          False   \n",
       "550067    False       False   False  False       False          False   \n",
       "\n",
       "        Stay_In_Current_City_Years  Marital_Status  Product_Category_1  \\\n",
       "0                            False           False               False   \n",
       "1                            False           False               False   \n",
       "2                            False           False               False   \n",
       "3                            False           False               False   \n",
       "4                            False           False               False   \n",
       "...                            ...             ...                 ...   \n",
       "550063                       False           False               False   \n",
       "550064                       False           False               False   \n",
       "550065                       False           False               False   \n",
       "550066                       False           False               False   \n",
       "550067                       False           False               False   \n",
       "\n",
       "        Product_Category_2  Product_Category_3  Purchase  \n",
       "0                     True                True     False  \n",
       "1                    False               False     False  \n",
       "2                     True                True     False  \n",
       "3                    False                True     False  \n",
       "4                     True                True     False  \n",
       "...                    ...                 ...       ...  \n",
       "550063                True                True     False  \n",
       "550064                True                True     False  \n",
       "550065                True                True     False  \n",
       "550066                True                True     False  \n",
       "550067                True                True     False  \n",
       "\n",
       "[550068 rows x 12 columns]"
      ]
     },
     "execution_count": 6,
     "metadata": {},
     "output_type": "execute_result"
    }
   ],
   "source": [
    "df.isnull()"
   ]
  },
  {
   "cell_type": "code",
   "execution_count": 7,
   "id": "07738f94",
   "metadata": {
    "execution": {
     "iopub.execute_input": "2024-02-06T17:17:03.282919Z",
     "iopub.status.busy": "2024-02-06T17:17:03.282133Z",
     "iopub.status.idle": "2024-02-06T17:17:03.574808Z",
     "shell.execute_reply": "2024-02-06T17:17:03.573602Z"
    },
    "papermill": {
     "duration": 0.313822,
     "end_time": "2024-02-06T17:17:03.577547",
     "exception": false,
     "start_time": "2024-02-06T17:17:03.263725",
     "status": "completed"
    },
    "tags": []
   },
   "outputs": [
    {
     "data": {
      "text/plain": [
       "User_ID                            0\n",
       "Product_ID                         0\n",
       "Gender                             0\n",
       "Age                                0\n",
       "Occupation                         0\n",
       "City_Category                      0\n",
       "Stay_In_Current_City_Years         0\n",
       "Marital_Status                     0\n",
       "Product_Category_1                 0\n",
       "Product_Category_2            173638\n",
       "Product_Category_3            383247\n",
       "Purchase                           0\n",
       "dtype: int64"
      ]
     },
     "execution_count": 7,
     "metadata": {},
     "output_type": "execute_result"
    }
   ],
   "source": [
    "df.isnull().sum()"
   ]
  },
  {
   "cell_type": "code",
   "execution_count": 8,
   "id": "cebfa958",
   "metadata": {
    "execution": {
     "iopub.execute_input": "2024-02-06T17:17:03.613951Z",
     "iopub.status.busy": "2024-02-06T17:17:03.612685Z",
     "iopub.status.idle": "2024-02-06T17:17:03.628367Z",
     "shell.execute_reply": "2024-02-06T17:17:03.627287Z"
    },
    "papermill": {
     "duration": 0.036327,
     "end_time": "2024-02-06T17:17:03.631180",
     "exception": false,
     "start_time": "2024-02-06T17:17:03.594853",
     "status": "completed"
    },
    "tags": []
   },
   "outputs": [
    {
     "data": {
      "text/plain": [
       "array([10, 16, 15,  7, 20,  9,  1, 12, 17,  0,  3,  4, 11,  8, 19,  2, 18,\n",
       "        5, 14, 13,  6])"
      ]
     },
     "execution_count": 8,
     "metadata": {},
     "output_type": "execute_result"
    }
   ],
   "source": [
    "df['Occupation'].unique()"
   ]
  },
  {
   "cell_type": "code",
   "execution_count": 9,
   "id": "5da5ce3c",
   "metadata": {
    "execution": {
     "iopub.execute_input": "2024-02-06T17:17:03.668371Z",
     "iopub.status.busy": "2024-02-06T17:17:03.667906Z",
     "iopub.status.idle": "2024-02-06T17:17:03.723604Z",
     "shell.execute_reply": "2024-02-06T17:17:03.722379Z"
    },
    "papermill": {
     "duration": 0.077975,
     "end_time": "2024-02-06T17:17:03.726498",
     "exception": false,
     "start_time": "2024-02-06T17:17:03.648523",
     "status": "completed"
    },
    "tags": []
   },
   "outputs": [
    {
     "data": {
      "text/plain": [
       "array(['0-17', '55+', '26-35', '46-50', '51-55', '36-45', '18-25'],\n",
       "      dtype=object)"
      ]
     },
     "execution_count": 9,
     "metadata": {},
     "output_type": "execute_result"
    }
   ],
   "source": [
    "df['Age'].unique()"
   ]
  },
  {
   "cell_type": "code",
   "execution_count": 10,
   "id": "6fb152c9",
   "metadata": {
    "execution": {
     "iopub.execute_input": "2024-02-06T17:17:03.765280Z",
     "iopub.status.busy": "2024-02-06T17:17:03.764810Z",
     "iopub.status.idle": "2024-02-06T17:17:03.815441Z",
     "shell.execute_reply": "2024-02-06T17:17:03.814354Z"
    },
    "papermill": {
     "duration": 0.072946,
     "end_time": "2024-02-06T17:17:03.818377",
     "exception": false,
     "start_time": "2024-02-06T17:17:03.745431",
     "status": "completed"
    },
    "tags": []
   },
   "outputs": [
    {
     "data": {
      "text/plain": [
       "array(['A', 'C', 'B'], dtype=object)"
      ]
     },
     "execution_count": 10,
     "metadata": {},
     "output_type": "execute_result"
    }
   ],
   "source": [
    "df['City_Category'].unique()"
   ]
  },
  {
   "cell_type": "code",
   "execution_count": 11,
   "id": "4e93d442",
   "metadata": {
    "execution": {
     "iopub.execute_input": "2024-02-06T17:17:03.856537Z",
     "iopub.status.busy": "2024-02-06T17:17:03.856080Z",
     "iopub.status.idle": "2024-02-06T17:17:03.907693Z",
     "shell.execute_reply": "2024-02-06T17:17:03.906368Z"
    },
    "papermill": {
     "duration": 0.074012,
     "end_time": "2024-02-06T17:17:03.910393",
     "exception": false,
     "start_time": "2024-02-06T17:17:03.836381",
     "status": "completed"
    },
    "tags": []
   },
   "outputs": [
    {
     "data": {
      "text/plain": [
       "array(['2', '4+', '3', '1', '0'], dtype=object)"
      ]
     },
     "execution_count": 11,
     "metadata": {},
     "output_type": "execute_result"
    }
   ],
   "source": [
    "df['Stay_In_Current_City_Years'].unique()"
   ]
  },
  {
   "cell_type": "code",
   "execution_count": 12,
   "id": "0921064f",
   "metadata": {
    "execution": {
     "iopub.execute_input": "2024-02-06T17:17:03.949399Z",
     "iopub.status.busy": "2024-02-06T17:17:03.947673Z",
     "iopub.status.idle": "2024-02-06T17:17:03.960522Z",
     "shell.execute_reply": "2024-02-06T17:17:03.959130Z"
    },
    "papermill": {
     "duration": 0.035509,
     "end_time": "2024-02-06T17:17:03.963578",
     "exception": false,
     "start_time": "2024-02-06T17:17:03.928069",
     "status": "completed"
    },
    "tags": []
   },
   "outputs": [
    {
     "data": {
      "text/plain": [
       "array([0, 1])"
      ]
     },
     "execution_count": 12,
     "metadata": {},
     "output_type": "execute_result"
    }
   ],
   "source": [
    "df['Marital_Status'].unique()"
   ]
  },
  {
   "cell_type": "code",
   "execution_count": 13,
   "id": "cf298662",
   "metadata": {
    "execution": {
     "iopub.execute_input": "2024-02-06T17:17:04.070725Z",
     "iopub.status.busy": "2024-02-06T17:17:04.069859Z",
     "iopub.status.idle": "2024-02-06T17:17:04.082653Z",
     "shell.execute_reply": "2024-02-06T17:17:04.081151Z"
    },
    "papermill": {
     "duration": 0.036294,
     "end_time": "2024-02-06T17:17:04.085847",
     "exception": false,
     "start_time": "2024-02-06T17:17:04.049553",
     "status": "completed"
    },
    "tags": []
   },
   "outputs": [
    {
     "data": {
      "text/plain": [
       "array([ 3,  1, 12,  8,  5,  4,  2,  6, 14, 11, 13, 15,  7, 16, 18, 10, 17,\n",
       "        9, 20, 19])"
      ]
     },
     "execution_count": 13,
     "metadata": {},
     "output_type": "execute_result"
    }
   ],
   "source": [
    "df['Product_Category_1'].unique()"
   ]
  },
  {
   "cell_type": "code",
   "execution_count": 14,
   "id": "51232b6e",
   "metadata": {
    "execution": {
     "iopub.execute_input": "2024-02-06T17:17:04.123800Z",
     "iopub.status.busy": "2024-02-06T17:17:04.123386Z",
     "iopub.status.idle": "2024-02-06T17:17:04.138585Z",
     "shell.execute_reply": "2024-02-06T17:17:04.137360Z"
    },
    "papermill": {
     "duration": 0.037277,
     "end_time": "2024-02-06T17:17:04.141213",
     "exception": false,
     "start_time": "2024-02-06T17:17:04.103936",
     "status": "completed"
    },
    "tags": []
   },
   "outputs": [
    {
     "data": {
      "text/plain": [
       "array([nan,  6., 14.,  2.,  8., 15., 16., 11.,  5.,  3.,  4., 12.,  9.,\n",
       "       10., 17., 13.,  7., 18.])"
      ]
     },
     "execution_count": 14,
     "metadata": {},
     "output_type": "execute_result"
    }
   ],
   "source": [
    "df['Product_Category_2'].unique()"
   ]
  },
  {
   "cell_type": "code",
   "execution_count": 15,
   "id": "7512fdd9",
   "metadata": {
    "execution": {
     "iopub.execute_input": "2024-02-06T17:17:04.181295Z",
     "iopub.status.busy": "2024-02-06T17:17:04.180826Z",
     "iopub.status.idle": "2024-02-06T17:17:04.195999Z",
     "shell.execute_reply": "2024-02-06T17:17:04.194686Z"
    },
    "papermill": {
     "duration": 0.038891,
     "end_time": "2024-02-06T17:17:04.198706",
     "exception": false,
     "start_time": "2024-02-06T17:17:04.159815",
     "status": "completed"
    },
    "tags": []
   },
   "outputs": [
    {
     "data": {
      "text/plain": [
       "array([nan, 14., 17.,  5.,  4., 16., 15.,  8.,  9., 13.,  6., 12.,  3.,\n",
       "       18., 11., 10.])"
      ]
     },
     "execution_count": 15,
     "metadata": {},
     "output_type": "execute_result"
    }
   ],
   "source": [
    "df['Product_Category_3'].unique()"
   ]
  },
  {
   "cell_type": "code",
   "execution_count": 16,
   "id": "01c7afb1",
   "metadata": {
    "execution": {
     "iopub.execute_input": "2024-02-06T17:17:04.239963Z",
     "iopub.status.busy": "2024-02-06T17:17:04.239590Z",
     "iopub.status.idle": "2024-02-06T17:17:04.252949Z",
     "shell.execute_reply": "2024-02-06T17:17:04.251523Z"
    },
    "papermill": {
     "duration": 0.036821,
     "end_time": "2024-02-06T17:17:04.255759",
     "exception": false,
     "start_time": "2024-02-06T17:17:04.218938",
     "status": "completed"
    },
    "tags": []
   },
   "outputs": [
    {
     "data": {
      "text/plain": [
       "array([ 8370, 15200,  1422, ...,   135,   123,   613])"
      ]
     },
     "execution_count": 16,
     "metadata": {},
     "output_type": "execute_result"
    }
   ],
   "source": [
    "df['Purchase'].unique()"
   ]
  },
  {
   "cell_type": "code",
   "execution_count": 17,
   "id": "5d0fb988",
   "metadata": {
    "execution": {
     "iopub.execute_input": "2024-02-06T17:17:04.295113Z",
     "iopub.status.busy": "2024-02-06T17:17:04.294720Z",
     "iopub.status.idle": "2024-02-06T17:17:04.302744Z",
     "shell.execute_reply": "2024-02-06T17:17:04.301529Z"
    },
    "papermill": {
     "duration": 0.03116,
     "end_time": "2024-02-06T17:17:04.305143",
     "exception": false,
     "start_time": "2024-02-06T17:17:04.273983",
     "status": "completed"
    },
    "tags": []
   },
   "outputs": [],
   "source": [
    "df.rename(columns={'City_Category':'City','Stay_In_Current_City_Year':'Current_City','Product_Category_1':'Prod_1','Product_Category_2':'Prod_2','Product_Category_3':'Prod_3'},inplace=True)"
   ]
  },
  {
   "cell_type": "code",
   "execution_count": 18,
   "id": "eb427de0",
   "metadata": {
    "execution": {
     "iopub.execute_input": "2024-02-06T17:17:04.343815Z",
     "iopub.status.busy": "2024-02-06T17:17:04.343287Z",
     "iopub.status.idle": "2024-02-06T17:17:04.373983Z",
     "shell.execute_reply": "2024-02-06T17:17:04.372788Z"
    },
    "papermill": {
     "duration": 0.053496,
     "end_time": "2024-02-06T17:17:04.376707",
     "exception": false,
     "start_time": "2024-02-06T17:17:04.323211",
     "status": "completed"
    },
    "tags": []
   },
   "outputs": [],
   "source": [
    "df.drop(['User_ID','Product_ID'],axis=1,inplace=True)"
   ]
  },
  {
   "cell_type": "code",
   "execution_count": 19,
   "id": "8f69dc82",
   "metadata": {
    "execution": {
     "iopub.execute_input": "2024-02-06T17:17:04.414773Z",
     "iopub.status.busy": "2024-02-06T17:17:04.414365Z",
     "iopub.status.idle": "2024-02-06T17:17:04.454228Z",
     "shell.execute_reply": "2024-02-06T17:17:04.453245Z"
    },
    "papermill": {
     "duration": 0.062115,
     "end_time": "2024-02-06T17:17:04.456802",
     "exception": false,
     "start_time": "2024-02-06T17:17:04.394687",
     "status": "completed"
    },
    "tags": []
   },
   "outputs": [],
   "source": [
    "df['Gender']=df['Gender'].map({'M':1,'F':0})"
   ]
  },
  {
   "cell_type": "code",
   "execution_count": 20,
   "id": "5522c878",
   "metadata": {
    "execution": {
     "iopub.execute_input": "2024-02-06T17:17:04.495038Z",
     "iopub.status.busy": "2024-02-06T17:17:04.494662Z",
     "iopub.status.idle": "2024-02-06T17:17:04.518357Z",
     "shell.execute_reply": "2024-02-06T17:17:04.517289Z"
    },
    "papermill": {
     "duration": 0.046053,
     "end_time": "2024-02-06T17:17:04.520912",
     "exception": false,
     "start_time": "2024-02-06T17:17:04.474859",
     "status": "completed"
    },
    "tags": []
   },
   "outputs": [
    {
     "data": {
      "text/html": [
       "<div>\n",
       "<style scoped>\n",
       "    .dataframe tbody tr th:only-of-type {\n",
       "        vertical-align: middle;\n",
       "    }\n",
       "\n",
       "    .dataframe tbody tr th {\n",
       "        vertical-align: top;\n",
       "    }\n",
       "\n",
       "    .dataframe thead th {\n",
       "        text-align: right;\n",
       "    }\n",
       "</style>\n",
       "<table border=\"1\" class=\"dataframe\">\n",
       "  <thead>\n",
       "    <tr style=\"text-align: right;\">\n",
       "      <th></th>\n",
       "      <th>Gender</th>\n",
       "      <th>Age</th>\n",
       "      <th>Occupation</th>\n",
       "      <th>City</th>\n",
       "      <th>Stay_In_Current_City_Years</th>\n",
       "      <th>Marital_Status</th>\n",
       "      <th>Prod_1</th>\n",
       "      <th>Prod_2</th>\n",
       "      <th>Prod_3</th>\n",
       "      <th>Purchase</th>\n",
       "    </tr>\n",
       "  </thead>\n",
       "  <tbody>\n",
       "    <tr>\n",
       "      <th>0</th>\n",
       "      <td>0</td>\n",
       "      <td>0-17</td>\n",
       "      <td>10</td>\n",
       "      <td>A</td>\n",
       "      <td>2</td>\n",
       "      <td>0</td>\n",
       "      <td>3</td>\n",
       "      <td>NaN</td>\n",
       "      <td>NaN</td>\n",
       "      <td>8370</td>\n",
       "    </tr>\n",
       "    <tr>\n",
       "      <th>1</th>\n",
       "      <td>0</td>\n",
       "      <td>0-17</td>\n",
       "      <td>10</td>\n",
       "      <td>A</td>\n",
       "      <td>2</td>\n",
       "      <td>0</td>\n",
       "      <td>1</td>\n",
       "      <td>6.0</td>\n",
       "      <td>14.0</td>\n",
       "      <td>15200</td>\n",
       "    </tr>\n",
       "    <tr>\n",
       "      <th>2</th>\n",
       "      <td>0</td>\n",
       "      <td>0-17</td>\n",
       "      <td>10</td>\n",
       "      <td>A</td>\n",
       "      <td>2</td>\n",
       "      <td>0</td>\n",
       "      <td>12</td>\n",
       "      <td>NaN</td>\n",
       "      <td>NaN</td>\n",
       "      <td>1422</td>\n",
       "    </tr>\n",
       "    <tr>\n",
       "      <th>3</th>\n",
       "      <td>0</td>\n",
       "      <td>0-17</td>\n",
       "      <td>10</td>\n",
       "      <td>A</td>\n",
       "      <td>2</td>\n",
       "      <td>0</td>\n",
       "      <td>12</td>\n",
       "      <td>14.0</td>\n",
       "      <td>NaN</td>\n",
       "      <td>1057</td>\n",
       "    </tr>\n",
       "    <tr>\n",
       "      <th>4</th>\n",
       "      <td>1</td>\n",
       "      <td>55+</td>\n",
       "      <td>16</td>\n",
       "      <td>C</td>\n",
       "      <td>4+</td>\n",
       "      <td>0</td>\n",
       "      <td>8</td>\n",
       "      <td>NaN</td>\n",
       "      <td>NaN</td>\n",
       "      <td>7969</td>\n",
       "    </tr>\n",
       "    <tr>\n",
       "      <th>...</th>\n",
       "      <td>...</td>\n",
       "      <td>...</td>\n",
       "      <td>...</td>\n",
       "      <td>...</td>\n",
       "      <td>...</td>\n",
       "      <td>...</td>\n",
       "      <td>...</td>\n",
       "      <td>...</td>\n",
       "      <td>...</td>\n",
       "      <td>...</td>\n",
       "    </tr>\n",
       "    <tr>\n",
       "      <th>550063</th>\n",
       "      <td>1</td>\n",
       "      <td>51-55</td>\n",
       "      <td>13</td>\n",
       "      <td>B</td>\n",
       "      <td>1</td>\n",
       "      <td>1</td>\n",
       "      <td>20</td>\n",
       "      <td>NaN</td>\n",
       "      <td>NaN</td>\n",
       "      <td>368</td>\n",
       "    </tr>\n",
       "    <tr>\n",
       "      <th>550064</th>\n",
       "      <td>0</td>\n",
       "      <td>26-35</td>\n",
       "      <td>1</td>\n",
       "      <td>C</td>\n",
       "      <td>3</td>\n",
       "      <td>0</td>\n",
       "      <td>20</td>\n",
       "      <td>NaN</td>\n",
       "      <td>NaN</td>\n",
       "      <td>371</td>\n",
       "    </tr>\n",
       "    <tr>\n",
       "      <th>550065</th>\n",
       "      <td>0</td>\n",
       "      <td>26-35</td>\n",
       "      <td>15</td>\n",
       "      <td>B</td>\n",
       "      <td>4+</td>\n",
       "      <td>1</td>\n",
       "      <td>20</td>\n",
       "      <td>NaN</td>\n",
       "      <td>NaN</td>\n",
       "      <td>137</td>\n",
       "    </tr>\n",
       "    <tr>\n",
       "      <th>550066</th>\n",
       "      <td>0</td>\n",
       "      <td>55+</td>\n",
       "      <td>1</td>\n",
       "      <td>C</td>\n",
       "      <td>2</td>\n",
       "      <td>0</td>\n",
       "      <td>20</td>\n",
       "      <td>NaN</td>\n",
       "      <td>NaN</td>\n",
       "      <td>365</td>\n",
       "    </tr>\n",
       "    <tr>\n",
       "      <th>550067</th>\n",
       "      <td>0</td>\n",
       "      <td>46-50</td>\n",
       "      <td>0</td>\n",
       "      <td>B</td>\n",
       "      <td>4+</td>\n",
       "      <td>1</td>\n",
       "      <td>20</td>\n",
       "      <td>NaN</td>\n",
       "      <td>NaN</td>\n",
       "      <td>490</td>\n",
       "    </tr>\n",
       "  </tbody>\n",
       "</table>\n",
       "<p>550068 rows × 10 columns</p>\n",
       "</div>"
      ],
      "text/plain": [
       "        Gender    Age  Occupation City Stay_In_Current_City_Years  \\\n",
       "0            0   0-17          10    A                          2   \n",
       "1            0   0-17          10    A                          2   \n",
       "2            0   0-17          10    A                          2   \n",
       "3            0   0-17          10    A                          2   \n",
       "4            1    55+          16    C                         4+   \n",
       "...        ...    ...         ...  ...                        ...   \n",
       "550063       1  51-55          13    B                          1   \n",
       "550064       0  26-35           1    C                          3   \n",
       "550065       0  26-35          15    B                         4+   \n",
       "550066       0    55+           1    C                          2   \n",
       "550067       0  46-50           0    B                         4+   \n",
       "\n",
       "        Marital_Status  Prod_1  Prod_2  Prod_3  Purchase  \n",
       "0                    0       3     NaN     NaN      8370  \n",
       "1                    0       1     6.0    14.0     15200  \n",
       "2                    0      12     NaN     NaN      1422  \n",
       "3                    0      12    14.0     NaN      1057  \n",
       "4                    0       8     NaN     NaN      7969  \n",
       "...                ...     ...     ...     ...       ...  \n",
       "550063               1      20     NaN     NaN       368  \n",
       "550064               0      20     NaN     NaN       371  \n",
       "550065               1      20     NaN     NaN       137  \n",
       "550066               0      20     NaN     NaN       365  \n",
       "550067               1      20     NaN     NaN       490  \n",
       "\n",
       "[550068 rows x 10 columns]"
      ]
     },
     "execution_count": 20,
     "metadata": {},
     "output_type": "execute_result"
    }
   ],
   "source": [
    "df"
   ]
  },
  {
   "cell_type": "code",
   "execution_count": 21,
   "id": "9915a11c",
   "metadata": {
    "execution": {
     "iopub.execute_input": "2024-02-06T17:17:04.559811Z",
     "iopub.status.busy": "2024-02-06T17:17:04.559042Z",
     "iopub.status.idle": "2024-02-06T17:17:04.566864Z",
     "shell.execute_reply": "2024-02-06T17:17:04.566065Z"
    },
    "papermill": {
     "duration": 0.02956,
     "end_time": "2024-02-06T17:17:04.568939",
     "exception": false,
     "start_time": "2024-02-06T17:17:04.539379",
     "status": "completed"
    },
    "tags": []
   },
   "outputs": [
    {
     "data": {
      "text/plain": [
       "Gender                          int64\n",
       "Age                            object\n",
       "Occupation                      int64\n",
       "City                           object\n",
       "Stay_In_Current_City_Years     object\n",
       "Marital_Status                  int64\n",
       "Prod_1                          int64\n",
       "Prod_2                        float64\n",
       "Prod_3                        float64\n",
       "Purchase                        int64\n",
       "dtype: object"
      ]
     },
     "execution_count": 21,
     "metadata": {},
     "output_type": "execute_result"
    }
   ],
   "source": [
    "df.dtypes"
   ]
  },
  {
   "cell_type": "code",
   "execution_count": 22,
   "id": "53325d3a",
   "metadata": {
    "execution": {
     "iopub.execute_input": "2024-02-06T17:17:04.607574Z",
     "iopub.status.busy": "2024-02-06T17:17:04.607205Z",
     "iopub.status.idle": "2024-02-06T17:17:04.614529Z",
     "shell.execute_reply": "2024-02-06T17:17:04.613712Z"
    },
    "papermill": {
     "duration": 0.029281,
     "end_time": "2024-02-06T17:17:04.616755",
     "exception": false,
     "start_time": "2024-02-06T17:17:04.587474",
     "status": "completed"
    },
    "tags": []
   },
   "outputs": [
    {
     "data": {
      "text/plain": [
       "array(['0-17', '0-17', '0-17', ..., '26-35', '55+', '46-50'], dtype=object)"
      ]
     },
     "execution_count": 22,
     "metadata": {},
     "output_type": "execute_result"
    }
   ],
   "source": [
    "df.Age.values"
   ]
  },
  {
   "cell_type": "code",
   "execution_count": 23,
   "id": "aebeda62",
   "metadata": {
    "execution": {
     "iopub.execute_input": "2024-02-06T17:17:04.659620Z",
     "iopub.status.busy": "2024-02-06T17:17:04.659201Z",
     "iopub.status.idle": "2024-02-06T17:17:04.986888Z",
     "shell.execute_reply": "2024-02-06T17:17:04.985701Z"
    },
    "papermill": {
     "duration": 0.351458,
     "end_time": "2024-02-06T17:17:04.989814",
     "exception": false,
     "start_time": "2024-02-06T17:17:04.638356",
     "status": "completed"
    },
    "tags": []
   },
   "outputs": [],
   "source": [
    "df['Age'].replace({'0-17':'child','18-25':'teenage','26-35':' young adults','36-45':'adults','46-50':'mid age','51-55':'old adults','55+':'old'},inplace=True)"
   ]
  },
  {
   "cell_type": "code",
   "execution_count": 24,
   "id": "613fb5d1",
   "metadata": {
    "execution": {
     "iopub.execute_input": "2024-02-06T17:17:05.030179Z",
     "iopub.status.busy": "2024-02-06T17:17:05.029754Z",
     "iopub.status.idle": "2024-02-06T17:17:05.055720Z",
     "shell.execute_reply": "2024-02-06T17:17:05.054607Z"
    },
    "papermill": {
     "duration": 0.049773,
     "end_time": "2024-02-06T17:17:05.058642",
     "exception": false,
     "start_time": "2024-02-06T17:17:05.008869",
     "status": "completed"
    },
    "tags": []
   },
   "outputs": [
    {
     "data": {
      "text/html": [
       "<div>\n",
       "<style scoped>\n",
       "    .dataframe tbody tr th:only-of-type {\n",
       "        vertical-align: middle;\n",
       "    }\n",
       "\n",
       "    .dataframe tbody tr th {\n",
       "        vertical-align: top;\n",
       "    }\n",
       "\n",
       "    .dataframe thead th {\n",
       "        text-align: right;\n",
       "    }\n",
       "</style>\n",
       "<table border=\"1\" class=\"dataframe\">\n",
       "  <thead>\n",
       "    <tr style=\"text-align: right;\">\n",
       "      <th></th>\n",
       "      <th>Gender</th>\n",
       "      <th>Age</th>\n",
       "      <th>Occupation</th>\n",
       "      <th>City</th>\n",
       "      <th>Stay_In_Current_City_Years</th>\n",
       "      <th>Marital_Status</th>\n",
       "      <th>Prod_1</th>\n",
       "      <th>Prod_2</th>\n",
       "      <th>Prod_3</th>\n",
       "      <th>Purchase</th>\n",
       "    </tr>\n",
       "  </thead>\n",
       "  <tbody>\n",
       "    <tr>\n",
       "      <th>0</th>\n",
       "      <td>0</td>\n",
       "      <td>child</td>\n",
       "      <td>10</td>\n",
       "      <td>A</td>\n",
       "      <td>2</td>\n",
       "      <td>0</td>\n",
       "      <td>3</td>\n",
       "      <td>NaN</td>\n",
       "      <td>NaN</td>\n",
       "      <td>8370</td>\n",
       "    </tr>\n",
       "    <tr>\n",
       "      <th>1</th>\n",
       "      <td>0</td>\n",
       "      <td>child</td>\n",
       "      <td>10</td>\n",
       "      <td>A</td>\n",
       "      <td>2</td>\n",
       "      <td>0</td>\n",
       "      <td>1</td>\n",
       "      <td>6.0</td>\n",
       "      <td>14.0</td>\n",
       "      <td>15200</td>\n",
       "    </tr>\n",
       "    <tr>\n",
       "      <th>2</th>\n",
       "      <td>0</td>\n",
       "      <td>child</td>\n",
       "      <td>10</td>\n",
       "      <td>A</td>\n",
       "      <td>2</td>\n",
       "      <td>0</td>\n",
       "      <td>12</td>\n",
       "      <td>NaN</td>\n",
       "      <td>NaN</td>\n",
       "      <td>1422</td>\n",
       "    </tr>\n",
       "    <tr>\n",
       "      <th>3</th>\n",
       "      <td>0</td>\n",
       "      <td>child</td>\n",
       "      <td>10</td>\n",
       "      <td>A</td>\n",
       "      <td>2</td>\n",
       "      <td>0</td>\n",
       "      <td>12</td>\n",
       "      <td>14.0</td>\n",
       "      <td>NaN</td>\n",
       "      <td>1057</td>\n",
       "    </tr>\n",
       "    <tr>\n",
       "      <th>4</th>\n",
       "      <td>1</td>\n",
       "      <td>old</td>\n",
       "      <td>16</td>\n",
       "      <td>C</td>\n",
       "      <td>4+</td>\n",
       "      <td>0</td>\n",
       "      <td>8</td>\n",
       "      <td>NaN</td>\n",
       "      <td>NaN</td>\n",
       "      <td>7969</td>\n",
       "    </tr>\n",
       "    <tr>\n",
       "      <th>...</th>\n",
       "      <td>...</td>\n",
       "      <td>...</td>\n",
       "      <td>...</td>\n",
       "      <td>...</td>\n",
       "      <td>...</td>\n",
       "      <td>...</td>\n",
       "      <td>...</td>\n",
       "      <td>...</td>\n",
       "      <td>...</td>\n",
       "      <td>...</td>\n",
       "    </tr>\n",
       "    <tr>\n",
       "      <th>550063</th>\n",
       "      <td>1</td>\n",
       "      <td>old adults</td>\n",
       "      <td>13</td>\n",
       "      <td>B</td>\n",
       "      <td>1</td>\n",
       "      <td>1</td>\n",
       "      <td>20</td>\n",
       "      <td>NaN</td>\n",
       "      <td>NaN</td>\n",
       "      <td>368</td>\n",
       "    </tr>\n",
       "    <tr>\n",
       "      <th>550064</th>\n",
       "      <td>0</td>\n",
       "      <td>young adults</td>\n",
       "      <td>1</td>\n",
       "      <td>C</td>\n",
       "      <td>3</td>\n",
       "      <td>0</td>\n",
       "      <td>20</td>\n",
       "      <td>NaN</td>\n",
       "      <td>NaN</td>\n",
       "      <td>371</td>\n",
       "    </tr>\n",
       "    <tr>\n",
       "      <th>550065</th>\n",
       "      <td>0</td>\n",
       "      <td>young adults</td>\n",
       "      <td>15</td>\n",
       "      <td>B</td>\n",
       "      <td>4+</td>\n",
       "      <td>1</td>\n",
       "      <td>20</td>\n",
       "      <td>NaN</td>\n",
       "      <td>NaN</td>\n",
       "      <td>137</td>\n",
       "    </tr>\n",
       "    <tr>\n",
       "      <th>550066</th>\n",
       "      <td>0</td>\n",
       "      <td>old</td>\n",
       "      <td>1</td>\n",
       "      <td>C</td>\n",
       "      <td>2</td>\n",
       "      <td>0</td>\n",
       "      <td>20</td>\n",
       "      <td>NaN</td>\n",
       "      <td>NaN</td>\n",
       "      <td>365</td>\n",
       "    </tr>\n",
       "    <tr>\n",
       "      <th>550067</th>\n",
       "      <td>0</td>\n",
       "      <td>mid age</td>\n",
       "      <td>0</td>\n",
       "      <td>B</td>\n",
       "      <td>4+</td>\n",
       "      <td>1</td>\n",
       "      <td>20</td>\n",
       "      <td>NaN</td>\n",
       "      <td>NaN</td>\n",
       "      <td>490</td>\n",
       "    </tr>\n",
       "  </tbody>\n",
       "</table>\n",
       "<p>550068 rows × 10 columns</p>\n",
       "</div>"
      ],
      "text/plain": [
       "        Gender            Age  Occupation City Stay_In_Current_City_Years  \\\n",
       "0            0          child          10    A                          2   \n",
       "1            0          child          10    A                          2   \n",
       "2            0          child          10    A                          2   \n",
       "3            0          child          10    A                          2   \n",
       "4            1            old          16    C                         4+   \n",
       "...        ...            ...         ...  ...                        ...   \n",
       "550063       1     old adults          13    B                          1   \n",
       "550064       0   young adults           1    C                          3   \n",
       "550065       0   young adults          15    B                         4+   \n",
       "550066       0            old           1    C                          2   \n",
       "550067       0        mid age           0    B                         4+   \n",
       "\n",
       "        Marital_Status  Prod_1  Prod_2  Prod_3  Purchase  \n",
       "0                    0       3     NaN     NaN      8370  \n",
       "1                    0       1     6.0    14.0     15200  \n",
       "2                    0      12     NaN     NaN      1422  \n",
       "3                    0      12    14.0     NaN      1057  \n",
       "4                    0       8     NaN     NaN      7969  \n",
       "...                ...     ...     ...     ...       ...  \n",
       "550063               1      20     NaN     NaN       368  \n",
       "550064               0      20     NaN     NaN       371  \n",
       "550065               1      20     NaN     NaN       137  \n",
       "550066               0      20     NaN     NaN       365  \n",
       "550067               1      20     NaN     NaN       490  \n",
       "\n",
       "[550068 rows x 10 columns]"
      ]
     },
     "execution_count": 24,
     "metadata": {},
     "output_type": "execute_result"
    }
   ],
   "source": [
    "df"
   ]
  },
  {
   "cell_type": "code",
   "execution_count": 25,
   "id": "0e3e8e23",
   "metadata": {
    "execution": {
     "iopub.execute_input": "2024-02-06T17:17:05.098938Z",
     "iopub.status.busy": "2024-02-06T17:17:05.098525Z",
     "iopub.status.idle": "2024-02-06T17:17:06.843271Z",
     "shell.execute_reply": "2024-02-06T17:17:06.842397Z"
    },
    "papermill": {
     "duration": 1.767844,
     "end_time": "2024-02-06T17:17:06.845802",
     "exception": false,
     "start_time": "2024-02-06T17:17:05.077958",
     "status": "completed"
    },
    "tags": []
   },
   "outputs": [],
   "source": [
    "import seaborn as sns\n",
    "import matplotlib.pyplot as plt\n",
    "%matplotlib inline"
   ]
  },
  {
   "cell_type": "code",
   "execution_count": 26,
   "id": "cdb28d17",
   "metadata": {
    "execution": {
     "iopub.execute_input": "2024-02-06T17:17:06.888401Z",
     "iopub.status.busy": "2024-02-06T17:17:06.887711Z",
     "iopub.status.idle": "2024-02-06T17:17:06.891908Z",
     "shell.execute_reply": "2024-02-06T17:17:06.890951Z"
    },
    "papermill": {
     "duration": 0.027875,
     "end_time": "2024-02-06T17:17:06.894296",
     "exception": false,
     "start_time": "2024-02-06T17:17:06.866421",
     "status": "completed"
    },
    "tags": []
   },
   "outputs": [],
   "source": [
    "# Purchase Distribution"
   ]
  },
  {
   "cell_type": "code",
   "execution_count": 27,
   "id": "6d2f0e2e",
   "metadata": {
    "execution": {
     "iopub.execute_input": "2024-02-06T17:17:06.936596Z",
     "iopub.status.busy": "2024-02-06T17:17:06.935844Z",
     "iopub.status.idle": "2024-02-06T17:17:09.871249Z",
     "shell.execute_reply": "2024-02-06T17:17:09.869991Z"
    },
    "papermill": {
     "duration": 2.959163,
     "end_time": "2024-02-06T17:17:09.873873",
     "exception": false,
     "start_time": "2024-02-06T17:17:06.914710",
     "status": "completed"
    },
    "tags": []
   },
   "outputs": [
    {
     "name": "stderr",
     "output_type": "stream",
     "text": [
      "/tmp/ipykernel_20/352269465.py:2: UserWarning: \n",
      "\n",
      "`distplot` is a deprecated function and will be removed in seaborn v0.14.0.\n",
      "\n",
      "Please adapt your code to use either `displot` (a figure-level function with\n",
      "similar flexibility) or `histplot` (an axes-level function for histograms).\n",
      "\n",
      "For a guide to updating your code to use the new functions, please see\n",
      "https://gist.github.com/mwaskom/de44147ed2974457ad6372750bbe5751\n",
      "\n",
      "  sns.distplot(x=df['Purchase'])\n"
     ]
    },
    {
     "data": {
      "text/plain": [
       "Text(0.5, 1.0, 'Distribution')"
      ]
     },
     "execution_count": 27,
     "metadata": {},
     "output_type": "execute_result"
    },
    {
     "data": {
      "image/png": "[encoded data removed]",
      "text/plain": [
       "<Figure size 600x600 with 1 Axes>"
      ]
     },
     "metadata": {},
     "output_type": "display_data"
    }
   ],
   "source": [
    "fig,axes=plt.subplots(nrows=1,ncols=1,figsize=(6,6))\n",
    "sns.distplot(x=df['Purchase'])\n",
    "axes.set_title('Distribution')"
   ]
  },
  {
   "cell_type": "markdown",
   "id": "4ed5c56f",
   "metadata": {
    "papermill": {
     "duration": 0.021816,
     "end_time": "2024-02-06T17:17:09.916718",
     "exception": false,
     "start_time": "2024-02-06T17:17:09.894902",
     "status": "completed"
    },
    "tags": []
   },
   "source": []
  },
  {
   "cell_type": "markdown",
   "id": "d68755b3",
   "metadata": {
    "papermill": {
     "duration": 0.021193,
     "end_time": "2024-02-06T17:17:09.960331",
     "exception": false,
     "start_time": "2024-02-06T17:17:09.939138",
     "status": "completed"
    },
    "tags": []
   },
   "source": [
    "Fill NaN Values"
   ]
  },
  {
   "cell_type": "code",
   "execution_count": 28,
   "id": "fc37ca97",
   "metadata": {
    "execution": {
     "iopub.execute_input": "2024-02-06T17:17:10.003668Z",
     "iopub.status.busy": "2024-02-06T17:17:10.003282Z",
     "iopub.status.idle": "2024-02-06T17:17:10.021805Z",
     "shell.execute_reply": "2024-02-06T17:17:10.020467Z"
    },
    "papermill": {
     "duration": 0.043849,
     "end_time": "2024-02-06T17:17:10.024703",
     "exception": false,
     "start_time": "2024-02-06T17:17:09.980854",
     "status": "completed"
    },
    "tags": []
   },
   "outputs": [],
   "source": [
    "df['Prod_2']=df['Prod_2'].replace(np.NaN,df['Prod_2'].mean())"
   ]
  },
  {
   "cell_type": "code",
   "execution_count": 29,
   "id": "7b33f6c2",
   "metadata": {
    "execution": {
     "iopub.execute_input": "2024-02-06T17:17:10.067805Z",
     "iopub.status.busy": "2024-02-06T17:17:10.067441Z",
     "iopub.status.idle": "2024-02-06T17:17:10.083805Z",
     "shell.execute_reply": "2024-02-06T17:17:10.082730Z"
    },
    "papermill": {
     "duration": 0.04066,
     "end_time": "2024-02-06T17:17:10.086431",
     "exception": false,
     "start_time": "2024-02-06T17:17:10.045771",
     "status": "completed"
    },
    "tags": []
   },
   "outputs": [],
   "source": [
    "df['Prod_3']=df['Prod_3'].replace(np.NaN,df['Prod_3'].mean())"
   ]
  },
  {
   "cell_type": "code",
   "execution_count": 30,
   "id": "5d6d4ac0",
   "metadata": {
    "execution": {
     "iopub.execute_input": "2024-02-06T17:17:10.130257Z",
     "iopub.status.busy": "2024-02-06T17:17:10.129808Z",
     "iopub.status.idle": "2024-02-06T17:17:10.153260Z",
     "shell.execute_reply": "2024-02-06T17:17:10.151965Z"
    },
    "papermill": {
     "duration": 0.049229,
     "end_time": "2024-02-06T17:17:10.155781",
     "exception": false,
     "start_time": "2024-02-06T17:17:10.106552",
     "status": "completed"
    },
    "tags": []
   },
   "outputs": [
    {
     "data": {
      "text/html": [
       "<div>\n",
       "<style scoped>\n",
       "    .dataframe tbody tr th:only-of-type {\n",
       "        vertical-align: middle;\n",
       "    }\n",
       "\n",
       "    .dataframe tbody tr th {\n",
       "        vertical-align: top;\n",
       "    }\n",
       "\n",
       "    .dataframe thead th {\n",
       "        text-align: right;\n",
       "    }\n",
       "</style>\n",
       "<table border=\"1\" class=\"dataframe\">\n",
       "  <thead>\n",
       "    <tr style=\"text-align: right;\">\n",
       "      <th></th>\n",
       "      <th>Gender</th>\n",
       "      <th>Age</th>\n",
       "      <th>Occupation</th>\n",
       "      <th>City</th>\n",
       "      <th>Stay_In_Current_City_Years</th>\n",
       "      <th>Marital_Status</th>\n",
       "      <th>Prod_1</th>\n",
       "      <th>Prod_2</th>\n",
       "      <th>Prod_3</th>\n",
       "      <th>Purchase</th>\n",
       "    </tr>\n",
       "  </thead>\n",
       "  <tbody>\n",
       "    <tr>\n",
       "      <th>0</th>\n",
       "      <td>0</td>\n",
       "      <td>child</td>\n",
       "      <td>10</td>\n",
       "      <td>A</td>\n",
       "      <td>2</td>\n",
       "      <td>0</td>\n",
       "      <td>3</td>\n",
       "      <td>9.842329</td>\n",
       "      <td>12.668243</td>\n",
       "      <td>8370</td>\n",
       "    </tr>\n",
       "    <tr>\n",
       "      <th>1</th>\n",
       "      <td>0</td>\n",
       "      <td>child</td>\n",
       "      <td>10</td>\n",
       "      <td>A</td>\n",
       "      <td>2</td>\n",
       "      <td>0</td>\n",
       "      <td>1</td>\n",
       "      <td>6.000000</td>\n",
       "      <td>14.000000</td>\n",
       "      <td>15200</td>\n",
       "    </tr>\n",
       "    <tr>\n",
       "      <th>2</th>\n",
       "      <td>0</td>\n",
       "      <td>child</td>\n",
       "      <td>10</td>\n",
       "      <td>A</td>\n",
       "      <td>2</td>\n",
       "      <td>0</td>\n",
       "      <td>12</td>\n",
       "      <td>9.842329</td>\n",
       "      <td>12.668243</td>\n",
       "      <td>1422</td>\n",
       "    </tr>\n",
       "    <tr>\n",
       "      <th>3</th>\n",
       "      <td>0</td>\n",
       "      <td>child</td>\n",
       "      <td>10</td>\n",
       "      <td>A</td>\n",
       "      <td>2</td>\n",
       "      <td>0</td>\n",
       "      <td>12</td>\n",
       "      <td>14.000000</td>\n",
       "      <td>12.668243</td>\n",
       "      <td>1057</td>\n",
       "    </tr>\n",
       "    <tr>\n",
       "      <th>4</th>\n",
       "      <td>1</td>\n",
       "      <td>old</td>\n",
       "      <td>16</td>\n",
       "      <td>C</td>\n",
       "      <td>4+</td>\n",
       "      <td>0</td>\n",
       "      <td>8</td>\n",
       "      <td>9.842329</td>\n",
       "      <td>12.668243</td>\n",
       "      <td>7969</td>\n",
       "    </tr>\n",
       "    <tr>\n",
       "      <th>...</th>\n",
       "      <td>...</td>\n",
       "      <td>...</td>\n",
       "      <td>...</td>\n",
       "      <td>...</td>\n",
       "      <td>...</td>\n",
       "      <td>...</td>\n",
       "      <td>...</td>\n",
       "      <td>...</td>\n",
       "      <td>...</td>\n",
       "      <td>...</td>\n",
       "    </tr>\n",
       "    <tr>\n",
       "      <th>550063</th>\n",
       "      <td>1</td>\n",
       "      <td>old adults</td>\n",
       "      <td>13</td>\n",
       "      <td>B</td>\n",
       "      <td>1</td>\n",
       "      <td>1</td>\n",
       "      <td>20</td>\n",
       "      <td>9.842329</td>\n",
       "      <td>12.668243</td>\n",
       "      <td>368</td>\n",
       "    </tr>\n",
       "    <tr>\n",
       "      <th>550064</th>\n",
       "      <td>0</td>\n",
       "      <td>young adults</td>\n",
       "      <td>1</td>\n",
       "      <td>C</td>\n",
       "      <td>3</td>\n",
       "      <td>0</td>\n",
       "      <td>20</td>\n",
       "      <td>9.842329</td>\n",
       "      <td>12.668243</td>\n",
       "      <td>371</td>\n",
       "    </tr>\n",
       "    <tr>\n",
       "      <th>550065</th>\n",
       "      <td>0</td>\n",
       "      <td>young adults</td>\n",
       "      <td>15</td>\n",
       "      <td>B</td>\n",
       "      <td>4+</td>\n",
       "      <td>1</td>\n",
       "      <td>20</td>\n",
       "      <td>9.842329</td>\n",
       "      <td>12.668243</td>\n",
       "      <td>137</td>\n",
       "    </tr>\n",
       "    <tr>\n",
       "      <th>550066</th>\n",
       "      <td>0</td>\n",
       "      <td>old</td>\n",
       "      <td>1</td>\n",
       "      <td>C</td>\n",
       "      <td>2</td>\n",
       "      <td>0</td>\n",
       "      <td>20</td>\n",
       "      <td>9.842329</td>\n",
       "      <td>12.668243</td>\n",
       "      <td>365</td>\n",
       "    </tr>\n",
       "    <tr>\n",
       "      <th>550067</th>\n",
       "      <td>0</td>\n",
       "      <td>mid age</td>\n",
       "      <td>0</td>\n",
       "      <td>B</td>\n",
       "      <td>4+</td>\n",
       "      <td>1</td>\n",
       "      <td>20</td>\n",
       "      <td>9.842329</td>\n",
       "      <td>12.668243</td>\n",
       "      <td>490</td>\n",
       "    </tr>\n",
       "  </tbody>\n",
       "</table>\n",
       "<p>550068 rows × 10 columns</p>\n",
       "</div>"
      ],
      "text/plain": [
       "        Gender            Age  Occupation City Stay_In_Current_City_Years  \\\n",
       "0            0          child          10    A                          2   \n",
       "1            0          child          10    A                          2   \n",
       "2            0          child          10    A                          2   \n",
       "3            0          child          10    A                          2   \n",
       "4            1            old          16    C                         4+   \n",
       "...        ...            ...         ...  ...                        ...   \n",
       "550063       1     old adults          13    B                          1   \n",
       "550064       0   young adults           1    C                          3   \n",
       "550065       0   young adults          15    B                         4+   \n",
       "550066       0            old           1    C                          2   \n",
       "550067       0        mid age           0    B                         4+   \n",
       "\n",
       "        Marital_Status  Prod_1     Prod_2     Prod_3  Purchase  \n",
       "0                    0       3   9.842329  12.668243      8370  \n",
       "1                    0       1   6.000000  14.000000     15200  \n",
       "2                    0      12   9.842329  12.668243      1422  \n",
       "3                    0      12  14.000000  12.668243      1057  \n",
       "4                    0       8   9.842329  12.668243      7969  \n",
       "...                ...     ...        ...        ...       ...  \n",
       "550063               1      20   9.842329  12.668243       368  \n",
       "550064               0      20   9.842329  12.668243       371  \n",
       "550065               1      20   9.842329  12.668243       137  \n",
       "550066               0      20   9.842329  12.668243       365  \n",
       "550067               1      20   9.842329  12.668243       490  \n",
       "\n",
       "[550068 rows x 10 columns]"
      ]
     },
     "execution_count": 30,
     "metadata": {},
     "output_type": "execute_result"
    }
   ],
   "source": [
    "df"
   ]
  },
  {
   "cell_type": "markdown",
   "id": "218a2d48",
   "metadata": {
    "papermill": {
     "duration": 0.020198,
     "end_time": "2024-02-06T17:17:10.196707",
     "exception": false,
     "start_time": "2024-02-06T17:17:10.176509",
     "status": "completed"
    },
    "tags": []
   },
   "source": [
    "Check for Outliners"
   ]
  },
  {
   "cell_type": "code",
   "execution_count": 31,
   "id": "30732d0f",
   "metadata": {
    "execution": {
     "iopub.execute_input": "2024-02-06T17:17:10.240040Z",
     "iopub.status.busy": "2024-02-06T17:17:10.239028Z",
     "iopub.status.idle": "2024-02-06T17:17:10.637273Z",
     "shell.execute_reply": "2024-02-06T17:17:10.635839Z"
    },
    "papermill": {
     "duration": 0.423897,
     "end_time": "2024-02-06T17:17:10.641023",
     "exception": false,
     "start_time": "2024-02-06T17:17:10.217126",
     "status": "completed"
    },
    "tags": []
   },
   "outputs": [
    {
     "data": {
      "text/plain": [
       "<Axes: xlabel='Prod_1'>"
      ]
     },
     "execution_count": 31,
     "metadata": {},
     "output_type": "execute_result"
    },
    {
     "data": {
      "image/png": "[encoded data removed]",
      "text/plain": [
       "<Figure size 640x480 with 1 Axes>"
      ]
     },
     "metadata": {},
     "output_type": "display_data"
    }
   ],
   "source": [
    "sns.boxplot(data=df,x=df['Prod_1'],color='yellow')"
   ]
  },
  {
   "cell_type": "code",
   "execution_count": 32,
   "id": "70ed1c4c",
   "metadata": {
    "execution": {
     "iopub.execute_input": "2024-02-06T17:17:10.686860Z",
     "iopub.status.busy": "2024-02-06T17:17:10.686463Z",
     "iopub.status.idle": "2024-02-06T17:17:11.229587Z",
     "shell.execute_reply": "2024-02-06T17:17:11.228421Z"
    },
    "papermill": {
     "duration": 0.56832,
     "end_time": "2024-02-06T17:17:11.232335",
     "exception": false,
     "start_time": "2024-02-06T17:17:10.664015",
     "status": "completed"
    },
    "tags": []
   },
   "outputs": [
    {
     "data": {
      "text/plain": [
       "<Axes: xlabel='Prod_2'>"
      ]
     },
     "execution_count": 32,
     "metadata": {},
     "output_type": "execute_result"
    },
    {
     "data": {
      "image/png": "[encoded data removed]",
      "text/plain": [
       "<Figure size 640x480 with 1 Axes>"
      ]
     },
     "metadata": {},
     "output_type": "display_data"
    }
   ],
   "source": [
    "sns.boxplot(data=df,x=df['Prod_2'],color='red')"
   ]
  },
  {
   "cell_type": "code",
   "execution_count": 33,
   "id": "f81d8fe7",
   "metadata": {
    "execution": {
     "iopub.execute_input": "2024-02-06T17:17:11.279524Z",
     "iopub.status.busy": "2024-02-06T17:17:11.279119Z",
     "iopub.status.idle": "2024-02-06T17:17:12.472418Z",
     "shell.execute_reply": "2024-02-06T17:17:12.471039Z"
    },
    "papermill": {
     "duration": 1.220264,
     "end_time": "2024-02-06T17:17:12.475248",
     "exception": false,
     "start_time": "2024-02-06T17:17:11.254984",
     "status": "completed"
    },
    "tags": []
   },
   "outputs": [
    {
     "data": {
      "text/plain": [
       "<Axes: xlabel='Prod_3'>"
      ]
     },
     "execution_count": 33,
     "metadata": {},
     "output_type": "execute_result"
    },
    {
     "data": {
      "image/png": "[encoded data removed]",
      "text/plain": [
       "<Figure size 640x480 with 1 Axes>"
      ]
     },
     "metadata": {},
     "output_type": "display_data"
    }
   ],
   "source": [
    "sns.boxplot(data=df,x=df['Prod_3'])"
   ]
  },
  {
   "cell_type": "code",
   "execution_count": 34,
   "id": "d0ce9d05",
   "metadata": {
    "execution": {
     "iopub.execute_input": "2024-02-06T17:17:12.524365Z",
     "iopub.status.busy": "2024-02-06T17:17:12.523889Z",
     "iopub.status.idle": "2024-02-06T17:17:22.243411Z",
     "shell.execute_reply": "2024-02-06T17:17:22.242262Z"
    },
    "papermill": {
     "duration": 9.74748,
     "end_time": "2024-02-06T17:17:22.247048",
     "exception": false,
     "start_time": "2024-02-06T17:17:12.499568",
     "status": "completed"
    },
    "tags": []
   },
   "outputs": [
    {
     "data": {
      "text/plain": [
       "<Axes: xlabel='Age', ylabel='Purchase'>"
      ]
     },
     "execution_count": 34,
     "metadata": {},
     "output_type": "execute_result"
    },
    {
     "data": {
      "image/png": "[encoded data removed]",
      "text/plain": [
       "<Figure size 640x480 with 1 Axes>"
      ]
     },
     "metadata": {},
     "output_type": "display_data"
    }
   ],
   "source": [
    "sns.lineplot(x=df['Age'],y=df['Purchase'],data=df)"
   ]
  },
  {
   "cell_type": "code",
   "execution_count": 35,
   "id": "df9295b8",
   "metadata": {
    "execution": {
     "iopub.execute_input": "2024-02-06T17:17:22.295391Z",
     "iopub.status.busy": "2024-02-06T17:17:22.294294Z",
     "iopub.status.idle": "2024-02-06T17:17:32.397051Z",
     "shell.execute_reply": "2024-02-06T17:17:32.395564Z"
    },
    "papermill": {
     "duration": 10.12954,
     "end_time": "2024-02-06T17:17:32.399615",
     "exception": false,
     "start_time": "2024-02-06T17:17:22.270075",
     "status": "completed"
    },
    "tags": []
   },
   "outputs": [
    {
     "data": {
      "text/plain": [
       "<Axes: xlabel='City', ylabel='Purchase'>"
      ]
     },
     "execution_count": 35,
     "metadata": {},
     "output_type": "execute_result"
    },
    {
     "data": {
      "image/png": "[encoded data removed]",
      "text/plain": [
       "<Figure size 640x480 with 1 Axes>"
      ]
     },
     "metadata": {},
     "output_type": "display_data"
    }
   ],
   "source": [
    "sns.lineplot(x=df['City'],y=df['Purchase'],data=df,color='red')"
   ]
  },
  {
   "cell_type": "code",
   "execution_count": 36,
   "id": "08d1fbe8",
   "metadata": {
    "execution": {
     "iopub.execute_input": "2024-02-06T17:17:32.449782Z",
     "iopub.status.busy": "2024-02-06T17:17:32.448458Z",
     "iopub.status.idle": "2024-02-06T17:17:40.490456Z",
     "shell.execute_reply": "2024-02-06T17:17:40.489267Z"
    },
    "papermill": {
     "duration": 8.069852,
     "end_time": "2024-02-06T17:17:40.493152",
     "exception": false,
     "start_time": "2024-02-06T17:17:32.423300",
     "status": "completed"
    },
    "tags": []
   },
   "outputs": [
    {
     "data": {
      "text/plain": [
       "<Axes: xlabel='Occupation', ylabel='Purchase'>"
      ]
     },
     "execution_count": 36,
     "metadata": {},
     "output_type": "execute_result"
    },
    {
     "data": {
      "image/png": "[encoded data removed]",
      "text/plain": [
       "<Figure size 640x480 with 1 Axes>"
      ]
     },
     "metadata": {},
     "output_type": "display_data"
    }
   ],
   "source": [
    "sns.barplot(x=df['Occupation'],y=df['Purchase'],data=df)"
   ]
  },
  {
   "cell_type": "markdown",
   "id": "275621f5",
   "metadata": {
    "papermill": {
     "duration": 0.024017,
     "end_time": "2024-02-06T17:17:40.541692",
     "exception": false,
     "start_time": "2024-02-06T17:17:40.517675",
     "status": "completed"
    },
    "tags": []
   },
   "source": [
    "From above we can say that Occupation of 12,15,17 has highest purchasing capacity."
   ]
  },
  {
   "cell_type": "markdown",
   "id": "33b61998",
   "metadata": {
    "papermill": {
     "duration": 0.024655,
     "end_time": "2024-02-06T17:17:40.591810",
     "exception": false,
     "start_time": "2024-02-06T17:17:40.567155",
     "status": "completed"
    },
    "tags": []
   },
   "source": [
    "<!-- Product_category_1 vs Purchased -->"
   ]
  },
  {
   "cell_type": "markdown",
   "id": "8ed89270",
   "metadata": {
    "papermill": {
     "duration": 0.02569,
     "end_time": "2024-02-06T17:17:40.643608",
     "exception": false,
     "start_time": "2024-02-06T17:17:40.617918",
     "status": "completed"
    },
    "tags": []
   },
   "source": [
    "Product_category_1 vs Purchased"
   ]
  },
  {
   "cell_type": "code",
   "execution_count": 37,
   "id": "5a9cf3b8",
   "metadata": {
    "execution": {
     "iopub.execute_input": "2024-02-06T17:17:40.695486Z",
     "iopub.status.busy": "2024-02-06T17:17:40.695056Z",
     "iopub.status.idle": "2024-02-06T17:17:49.443411Z",
     "shell.execute_reply": "2024-02-06T17:17:49.442178Z"
    },
    "papermill": {
     "duration": 8.776965,
     "end_time": "2024-02-06T17:17:49.446221",
     "exception": false,
     "start_time": "2024-02-06T17:17:40.669256",
     "status": "completed"
    },
    "tags": []
   },
   "outputs": [
    {
     "data": {
      "text/plain": [
       "<function matplotlib.pyplot.show(close=None, block=None)>"
      ]
     },
     "execution_count": 37,
     "metadata": {},
     "output_type": "execute_result"
    },
    {
     "data": {
      "image/png": "[encoded data removed]",
      "text/plain": [
       "<Figure size 640x480 with 1 Axes>"
      ]
     },
     "metadata": {},
     "output_type": "display_data"
    }
   ],
   "source": [
    "sns.barplot(x=df['Prod_1'],y=df['Purchase'],data=df)\n",
    "plt.xticks(rotation=90)\n",
    "plt.show"
   ]
  },
  {
   "cell_type": "markdown",
   "id": "c09ab6d5",
   "metadata": {
    "papermill": {
     "duration": 0.025601,
     "end_time": "2024-02-06T17:17:49.496538",
     "exception": false,
     "start_time": "2024-02-06T17:17:49.470937",
     "status": "completed"
    },
    "tags": []
   },
   "source": [
    "Product_category_2 vs Purchased"
   ]
  },
  {
   "cell_type": "code",
   "execution_count": 38,
   "id": "feb64c4d",
   "metadata": {
    "execution": {
     "iopub.execute_input": "2024-02-06T17:17:49.549846Z",
     "iopub.status.busy": "2024-02-06T17:17:49.549421Z",
     "iopub.status.idle": "2024-02-06T17:17:58.304626Z",
     "shell.execute_reply": "2024-02-06T17:17:58.303238Z"
    },
    "papermill": {
     "duration": 8.785306,
     "end_time": "2024-02-06T17:17:58.307351",
     "exception": false,
     "start_time": "2024-02-06T17:17:49.522045",
     "status": "completed"
    },
    "tags": []
   },
   "outputs": [
    {
     "data": {
      "text/plain": [
       "<function matplotlib.pyplot.show(close=None, block=None)>"
      ]
     },
     "execution_count": 38,
     "metadata": {},
     "output_type": "execute_result"
    },
    {
     "data": {
      "image/png": "[encoded data removed]",
      "text/plain": [
       "<Figure size 640x480 with 1 Axes>"
      ]
     },
     "metadata": {},
     "output_type": "display_data"
    }
   ],
   "source": [
    "sns.barplot(x=df['Prod_2'],y=df['Purchase'],data=df)\n",
    "plt.xticks(rotation=90)\n",
    "plt.show"
   ]
  },
  {
   "cell_type": "markdown",
   "id": "e99b2d80",
   "metadata": {
    "papermill": {
     "duration": 0.025123,
     "end_time": "2024-02-06T17:17:58.358994",
     "exception": false,
     "start_time": "2024-02-06T17:17:58.333871",
     "status": "completed"
    },
    "tags": []
   },
   "source": [
    "Product_category_3 vs Purchased"
   ]
  },
  {
   "cell_type": "code",
   "execution_count": 39,
   "id": "4d2d957e",
   "metadata": {
    "execution": {
     "iopub.execute_input": "2024-02-06T17:17:58.412582Z",
     "iopub.status.busy": "2024-02-06T17:17:58.411847Z",
     "iopub.status.idle": "2024-02-06T17:18:09.521116Z",
     "shell.execute_reply": "2024-02-06T17:18:09.520016Z"
    },
    "papermill": {
     "duration": 11.139264,
     "end_time": "2024-02-06T17:18:09.523557",
     "exception": false,
     "start_time": "2024-02-06T17:17:58.384293",
     "status": "completed"
    },
    "tags": []
   },
   "outputs": [
    {
     "data": {
      "text/plain": [
       "<function matplotlib.pyplot.show(close=None, block=None)>"
      ]
     },
     "execution_count": 39,
     "metadata": {},
     "output_type": "execute_result"
    },
    {
     "data": {
      "image/png": "[encoded data removed]",
      "text/plain": [
       "<Figure size 640x480 with 1 Axes>"
      ]
     },
     "metadata": {},
     "output_type": "display_data"
    }
   ],
   "source": [
    "sns.barplot(x=df['Prod_3'],y=df['Purchase'],data=df,color='orange')\n",
    "plt.xticks(rotation=90)\n",
    "plt.show"
   ]
  },
  {
   "cell_type": "markdown",
   "id": "18a20032",
   "metadata": {
    "papermill": {
     "duration": 0.026006,
     "end_time": "2024-02-06T17:18:09.575777",
     "exception": false,
     "start_time": "2024-02-06T17:18:09.549771",
     "status": "completed"
    },
    "tags": []
   },
   "source": [
    "City category pie chart"
   ]
  },
  {
   "cell_type": "code",
   "execution_count": 40,
   "id": "a7e7deaa",
   "metadata": {
    "execution": {
     "iopub.execute_input": "2024-02-06T17:18:09.631625Z",
     "iopub.status.busy": "2024-02-06T17:18:09.630924Z",
     "iopub.status.idle": "2024-02-06T17:18:09.892122Z",
     "shell.execute_reply": "2024-02-06T17:18:09.890213Z"
    },
    "papermill": {
     "duration": 0.299318,
     "end_time": "2024-02-06T17:18:09.901726",
     "exception": false,
     "start_time": "2024-02-06T17:18:09.602408",
     "status": "completed"
    },
    "tags": []
   },
   "outputs": [
    {
     "data": {
      "text/plain": [
       "<Axes: ylabel='count'>"
      ]
     },
     "execution_count": 40,
     "metadata": {},
     "output_type": "execute_result"
    },
    {
     "data": {
      "image/png": "[encoded data removed]",
      "text/plain": [
       "<Figure size 640x480 with 1 Axes>"
      ]
     },
     "metadata": {},
     "output_type": "display_data"
    }
   ],
   "source": [
    "df['City'].value_counts().plot.pie(autopct='%1.1f%%',labels=['A','B','C'])"
   ]
  },
  {
   "cell_type": "code",
   "execution_count": null,
   "id": "f10bf629",
   "metadata": {
    "papermill": {
     "duration": 0.02714,
     "end_time": "2024-02-06T17:18:09.984299",
     "exception": false,
     "start_time": "2024-02-06T17:18:09.957159",
     "status": "completed"
    },
    "tags": []
   },
   "outputs": [],
   "source": []
  }
 ],
 "metadata": {
  "kaggle": {
   "accelerator": "none",
   "dataSources": [
    {
     "datasetId": 2457185,
     "sourceId": 4163061,
     "sourceType": "datasetVersion"
    }
   ],
   "dockerImageVersionId": 30558,
   "isGpuEnabled": false,
   "isInternetEnabled": true,
   "language": "python",
   "sourceType": "notebook"
  },
  "kernelspec": {
   "display_name": "Python 3",
   "language": "python",
   "name": "python3"
  },
  "language_info": {
   "codemirror_mode": {
    "name": "ipython",
    "version": 3
   },
   "file_extension": ".py",
   "mimetype": "text/x-python",
   "name": "python",
   "nbconvert_exporter": "python",
   "pygments_lexer": "ipython3",
   "version": "3.10.12"
  },
  "papermill": {
   "default_parameters": {},
   "duration": 75.297048,
   "end_time": "2024-02-06T17:18:10.735938",
   "environment_variables": {},
   "exception": null,
   "input_path": "__notebook__.ipynb",
   "output_path": "__notebook__.ipynb",
   "parameters": {},
   "start_time": "2024-02-06T17:16:55.438890",
   "version": "2.4.0"
  }
 },
 "nbformat": 4,
 "nbformat_minor": 5
}
